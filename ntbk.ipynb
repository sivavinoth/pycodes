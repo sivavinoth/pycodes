{
 "cells": [
  {
   "cell_type": "code",
   "execution_count": null,
   "metadata": {},
   "outputs": [],
   "source": [
    "def square(num):\n",
    "    return num * num\n",
    "\n",
    "num =[1,2,3]\n",
    "print\n",
    "mylist = [1, 2, 3, 4, 5]\n",
    "new_list = list(map(square, mylist))\n",
    "print(new_list)\n"
   ]
  },
  {
   "cell_type": "code",
   "execution_count": null,
   "metadata": {},
   "outputs": [],
   "source": [
    "bask = [1,3,4,5,2,]\n",
    "bask.sort()\n",
    "\n",
    "print(sorted(bask))\n",
    "print(bask)\n"
   ]
  },
  {
   "cell_type": "code",
   "execution_count": null,
   "metadata": {},
   "outputs": [],
   "source": [
    "user ={\n",
    "    \"name\": \"Golem\",\n",
    "    \"age\": 5006\n",
    "}  \n",
    "print(user.get(\"s\"))\n"
   ]
  },
  {
   "cell_type": "code",
   "execution_count": null,
   "metadata": {},
   "outputs": [],
   "source": [
    "import os \n",
    "os.path.exists('code1.py')"
   ]
  },
  {
   "cell_type": "code",
   "execution_count": null,
   "metadata": {},
   "outputs": [],
   "source": [
    "is_old  = False\n",
    "if is_old :\n",
    "    print(\"you can drive\")\n",
    "else :\n",
    "    print(\"you need to get licensce\")"
   ]
  },
  {
   "cell_type": "code",
   "execution_count": null,
   "metadata": {},
   "outputs": [],
   "source": [
    "for itm in (1,2,3):\n",
    "    for x in ('a','b'):\n",
    "        print(itm,x)"
   ]
  },
  {
   "cell_type": "code",
   "execution_count": 6,
   "metadata": {},
   "outputs": [
    {
     "name": "stdout",
     "output_type": "stream",
     "text": [
      "v 0\n",
      "i 1\n",
      "n 2\n",
      "o 3\n",
      "t 4\n",
      "h 5\n"
     ]
    }
   ],
   "source": [
    "n =\"vinoth\"\n",
    "for j in range(len(n)):\n",
    "  print(n[j],j)"
   ]
  },
  {
   "cell_type": "code",
   "execution_count": null,
   "metadata": {},
   "outputs": [],
   "source": [
    "for index, letter in enumerate(\"vinoth\"):\n",
    "    print(letter, index)"
   ]
  },
  {
   "cell_type": "code",
   "execution_count": null,
   "metadata": {},
   "outputs": [],
   "source": [
    "m = \"abcd\"\n",
    "i = 0\n",
    "while i < len(m):\n",
    "    # print(m[i], i)\n",
    "    print(f'{m[i]} numbers next to alphabets :{ i}')\n",
    "    i += 1\n"
   ]
  },
  {
   "cell_type": "code",
   "execution_count": 11,
   "metadata": {},
   "outputs": [
    {
     "name": "stdout",
     "output_type": "stream",
     "text": [
      "1 2 3 4 5 6 "
     ]
    }
   ],
   "source": [
    "pic = [[1,2,3],\n",
    "       [4,5,6]]\n",
    "for i in pic:\n",
    "    for j in i: \n",
    "          print(j ,sep = \"\" ,end=\" \")"
   ]
  },
  {
   "cell_type": "code",
   "execution_count": 16,
   "metadata": {},
   "outputs": [
    {
     "name": "stdout",
     "output_type": "stream",
     "text": [
      "['a']\n"
     ]
    }
   ],
   "source": [
    "flag = []\n",
    "smlist = ['a','b','c','a']\n",
    "for dup_count in smlist:  \n",
    "    if smlist.count(dup_count)>1:\n",
    "        if dup_count not in flag:\n",
    "           flag.append(dup_count)\n",
    "print(flag)"
   ]
  },
  {
   "cell_type": "code",
   "execution_count": 5,
   "metadata": {},
   "outputs": [
    {
     "name": "stdout",
     "output_type": "stream",
     "text": [
      "['a', 'a']\n"
     ]
    }
   ],
   "source": [
    "flag = []\n",
    "smlist = ['a','b','c','a']\n",
    "for dup_count in smlist:  \n",
    "    if smlist.count(dup_count)>1:\n",
    "        # if dup_count  in flag:\n",
    "           flag.append(dup_count)\n",
    "print(flag)"
   ]
  },
  {
   "cell_type": "code",
   "execution_count": 6,
   "metadata": {},
   "outputs": [
    {
     "name": "stdout",
     "output_type": "stream",
     "text": [
      "['a']\n"
     ]
    }
   ],
   "source": [
    "smlist = ['a', 'b', 'c', 'a']\n",
    "flag = list({x for x in smlist if smlist.count(x) > 1})\n",
    "print(flag)\n"
   ]
  },
  {
   "cell_type": "code",
   "execution_count": 7,
   "metadata": {},
   "outputs": [
    {
     "name": "stdout",
     "output_type": "stream",
     "text": [
      "['a']\n"
     ]
    }
   ],
   "source": [
    "smlist = ['a', 'b', 'c', 'a']\n",
    "flag = list(set([char for char in smlist if smlist.count(char) > 1]))\n",
    "print(flag)"
   ]
  },
  {
   "cell_type": "code",
   "execution_count": 13,
   "metadata": {},
   "outputs": [
    {
     "name": "stdout",
     "output_type": "stream",
     "text": [
      "['a', 'a', 'b', 'c']\n"
     ]
    }
   ],
   "source": [
    "smlist = ['a', 'b', 'c', 'a']\n",
    "# smlist.sort()\n",
    "print(sorted(smlist))"
   ]
  },
  {
   "cell_type": "code",
   "execution_count": null,
   "metadata": {},
   "outputs": [],
   "source": []
  },
  {
   "cell_type": "code",
   "execution_count": null,
   "metadata": {},
   "outputs": [],
   "source": []
  },
  {
   "cell_type": "code",
   "execution_count": null,
   "metadata": {},
   "outputs": [],
   "source": []
  },
  {
   "cell_type": "code",
   "execution_count": null,
   "metadata": {},
   "outputs": [],
   "source": []
  },
  {
   "cell_type": "code",
   "execution_count": null,
   "metadata": {},
   "outputs": [],
   "source": []
  },
  {
   "cell_type": "code",
   "execution_count": null,
   "metadata": {},
   "outputs": [],
   "source": []
  },
  {
   "cell_type": "code",
   "execution_count": null,
   "metadata": {},
   "outputs": [],
   "source": []
  }
 ],
 "metadata": {
  "kernelspec": {
   "display_name": "base",
   "language": "python",
   "name": "python3"
  },
  "language_info": {
   "codemirror_mode": {
    "name": "ipython",
    "version": 3
   },
   "file_extension": ".py",
   "mimetype": "text/x-python",
   "name": "python",
   "nbconvert_exporter": "python",
   "pygments_lexer": "ipython3",
   "version": "3.11.5"
  }
 },
 "nbformat": 4,
 "nbformat_minor": 2
}
