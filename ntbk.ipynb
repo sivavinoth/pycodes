{
 "cells": [
  {
   "cell_type": "code",
   "execution_count": null,
   "metadata": {},
   "outputs": [],
   "source": [
    "def square(num):\n",
    "    return num * num\n",
    "\n",
    "num =[1,2,3]\n",
    "print\n",
    "mylist = [1, 2, 3, 4, 5]\n",
    "new_list = list(map(square, mylist))\n",
    "print(new_list)\n"
   ]
  },
  {
   "cell_type": "code",
   "execution_count": 1,
   "metadata": {},
   "outputs": [
    {
     "name": "stdout",
     "output_type": "stream",
     "text": [
      "[1, 2, 3, 4, 5]\n",
      "[1, 2, 3, 4, 5]\n"
     ]
    }
   ],
   "source": [
    "bask = [1,3,4,5,2,]\n",
    "bask.sort()\n",
    "print(bask)\n",
    "\n",
    "print(sorted(bask))\n",
    "\n"
   ]
  },
  {
   "cell_type": "code",
   "execution_count": 3,
   "metadata": {},
   "outputs": [
    {
     "name": "stdout",
     "output_type": "stream",
     "text": [
      "[1, 2, 3, 4, 5]\n",
      "[1, 2, 3, 4, 5]\n"
     ]
    }
   ],
   "source": [
    "print(bask)\n",
    "print(sorted(bask))"
   ]
  },
  {
   "cell_type": "code",
   "execution_count": null,
   "metadata": {},
   "outputs": [],
   "source": [
    "user ={\n",
    "    \"name\": \"Golem\",\n",
    "    \"age\": 5006\n",
    "}  \n",
    "print(user.get(\"s\"))\n"
   ]
  },
  {
   "cell_type": "code",
   "execution_count": null,
   "metadata": {},
   "outputs": [],
   "source": [
    "import os \n",
    "os.path.exists('code1.py')"
   ]
  },
  {
   "cell_type": "code",
   "execution_count": null,
   "metadata": {},
   "outputs": [],
   "source": [
    "is_old  = False\n",
    "if is_old :\n",
    "    print(\"you can drive\")\n",
    "else :\n",
    "    print(\"you need to get licensce\")"
   ]
  },
  {
   "cell_type": "code",
   "execution_count": null,
   "metadata": {},
   "outputs": [],
   "source": [
    "for itm in (1,2,3):\n",
    "    for x in ('a','b'):\n",
    "        print(itm,x)"
   ]
  },
  {
   "cell_type": "code",
   "execution_count": 6,
   "metadata": {},
   "outputs": [
    {
     "name": "stdout",
     "output_type": "stream",
     "text": [
      "v 0\n",
      "i 1\n",
      "n 2\n",
      "o 3\n",
      "t 4\n",
      "h 5\n"
     ]
    }
   ],
   "source": [
    "n =\"vinoth\"\n",
    "for j in range(len(n)):\n",
    "  print(n[j],j)"
   ]
  },
  {
   "cell_type": "code",
   "execution_count": null,
   "metadata": {},
   "outputs": [],
   "source": [
    "for index, letter in enumerate(\"vinoth\"):\n",
    "    print(letter, index)"
   ]
  },
  {
   "cell_type": "code",
   "execution_count": null,
   "metadata": {},
   "outputs": [],
   "source": [
    "m = \"abcd\"\n",
    "i = 0\n",
    "while i < len(m):\n",
    "    # print(m[i], i)\n",
    "    print(f'{m[i]} numbers next to alphabets :{ i}')\n",
    "    i += 1\n"
   ]
  },
  {
   "cell_type": "code",
   "execution_count": 11,
   "metadata": {},
   "outputs": [
    {
     "name": "stdout",
     "output_type": "stream",
     "text": [
      "1 2 3 4 5 6 "
     ]
    }
   ],
   "source": [
    "pic = [[1,2,3],\n",
    "       [4,5,6]]\n",
    "for i in pic:\n",
    "    for j in i: \n",
    "          print(j ,sep = \"\" ,end=\" \")"
   ]
  },
  {
   "cell_type": "code",
   "execution_count": 16,
   "metadata": {},
   "outputs": [
    {
     "name": "stdout",
     "output_type": "stream",
     "text": [
      "['a']\n"
     ]
    }
   ],
   "source": [
    "flag = []\n",
    "smlist = ['a','b','c','a']\n",
    "for dup_count in smlist:  \n",
    "    if smlist.count(dup_count)>1:\n",
    "        if dup_count not in flag:\n",
    "           flag.append(dup_count)\n",
    "print(flag)"
   ]
  },
  {
   "cell_type": "code",
   "execution_count": 5,
   "metadata": {},
   "outputs": [
    {
     "name": "stdout",
     "output_type": "stream",
     "text": [
      "['a', 'a']\n"
     ]
    }
   ],
   "source": [
    "flag = []\n",
    "smlist = ['a','b','c','a']\n",
    "for dup_count in smlist:  \n",
    "    if smlist.count(dup_count)>1:\n",
    "        # if dup_count  in flag:\n",
    "           flag.append(dup_count)\n",
    "        \n",
    "print(flag)"
   ]
  },
  {
   "cell_type": "code",
   "execution_count": 6,
   "metadata": {},
   "outputs": [
    {
     "name": "stdout",
     "output_type": "stream",
     "text": [
      "['a']\n"
     ]
    }
   ],
   "source": [
    "smlist = ['a', 'b', 'c', 'a']\n",
    "flag = list({x for x in smlist if smlist.count(x) > 1})\n",
    "print(flag)\n"
   ]
  },
  {
   "cell_type": "code",
   "execution_count": 7,
   "metadata": {},
   "outputs": [
    {
     "name": "stdout",
     "output_type": "stream",
     "text": [
      "['a']\n"
     ]
    }
   ],
   "source": [
    "smlist = ['a', 'b', 'c', 'a']\n",
    "flag = list(set([char for char in smlist if smlist.count(char) > 1]))\n",
    "print(flag)"
   ]
  },
  {
   "cell_type": "code",
   "execution_count": 13,
   "metadata": {},
   "outputs": [
    {
     "name": "stdout",
     "output_type": "stream",
     "text": [
      "['a', 'a', 'b', 'c']\n"
     ]
    }
   ],
   "source": [
    "smlist = ['a', 'b', 'c', 'a']\n",
    "# smlist.sort()\n",
    "print(sorted(smlist))"
   ]
  },
  {
   "cell_type": "code",
   "execution_count": 4,
   "metadata": {},
   "outputs": [
    {
     "data": {
      "text/plain": [
       "True"
      ]
     },
     "execution_count": 4,
     "metadata": {},
     "output_type": "execute_result"
    }
   ],
   "source": [
    "def oddeven(i):\n",
    "    if i %2==0:\n",
    "        return True\n",
    "    else:\n",
    "        if i %2 !=0:\n",
    "            return False\n",
    "oddeven(2)"
   ]
  },
  {
   "cell_type": "code",
   "execution_count": 5,
   "metadata": {},
   "outputs": [
    {
     "data": {
      "text/plain": [
       "True"
      ]
     },
     "execution_count": 5,
     "metadata": {},
     "output_type": "execute_result"
    }
   ],
   "source": [
    "def oddeven(i):\n",
    "    if i %2==0:\n",
    "        return True\n",
    "    return False\n",
    "oddeven(2)"
   ]
  },
  {
   "cell_type": "code",
   "execution_count": 6,
   "metadata": {},
   "outputs": [
    {
     "data": {
      "text/plain": [
       "True"
      ]
     },
     "execution_count": 6,
     "metadata": {},
     "output_type": "execute_result"
    }
   ],
   "source": [
    "def oddeven(i):\n",
    "    return  i %2==0          \n",
    "oddeven(2)"
   ]
  },
  {
   "cell_type": "code",
   "execution_count": null,
   "metadata": {},
   "outputs": [],
   "source": [
    "# Given two strings s and t, determine if they are isomorphic.\n",
    "\n",
    "# Two strings s and t are isomorphic if the characters in s can be replaced to get t.\n",
    "\n",
    "# All occurrences of a character must be replaced with another character while preserving the order of characters. \n",
    "# No two characters may map to the same character, but a character may map to itself.\n",
    "\n",
    "# Example 1:\n",
    "\n",
    "# Input: s = \"egg\", t = \"add\"\n",
    "# Output: true\n",
    "# Example 2:\n",
    "\n",
    "# Input: s = \"foo\", t = \"bar\"\n",
    "# Output: false\n",
    "# Example 3:\n",
    "\n",
    "# Input: s = \"paper\", t = \"title\"\n",
    "# Output: true\n",
    " "
   ]
  },
  {
   "cell_type": "code",
   "execution_count": null,
   "metadata": {},
   "outputs": [],
   "source": []
  },
  {
   "cell_type": "code",
   "execution_count": 19,
   "metadata": {},
   "outputs": [
    {
     "name": "stdout",
     "output_type": "stream",
     "text": [
      "68\n"
     ]
    }
   ],
   "source": [
    "def highesteven(li):\n",
    "    \n",
    "    lar= []\n",
    "    for high in li :\n",
    "        if high %2 ==0:\n",
    "            lar.append(high)\n",
    "            \n",
    "    return max(lar)\n",
    "print(highesteven([1,2,4,5,66,43,68]))    "
   ]
  },
  {
   "cell_type": "code",
   "execution_count": 10,
   "metadata": {},
   "outputs": [],
   "source": [
    "a = [1, 2, 3, 4, 7, 1]\n",
    "b = [1, 2, 4, 5, 7, 1]\n"
   ]
  },
  {
   "cell_type": "code",
   "execution_count": 11,
   "metadata": {},
   "outputs": [],
   "source": [
    "c = [x for x,y in zip(a,b) if x == y]"
   ]
  },
  {
   "cell_type": "code",
   "execution_count": 12,
   "metadata": {},
   "outputs": [
    {
     "name": "stdout",
     "output_type": "stream",
     "text": [
      "[1, 2, 7, 1]\n"
     ]
    }
   ],
   "source": [
    "print(c)"
   ]
  },
  {
   "cell_type": "code",
   "execution_count": 18,
   "metadata": {},
   "outputs": [
    {
     "name": "stdout",
     "output_type": "stream",
     "text": [
      "10\n",
      "-1\n",
      "None\n"
     ]
    }
   ],
   "source": [
    "def find_largest(lst):\n",
    "    if not lst:\n",
    "        return None\n",
    "    \n",
    "    largest = lst[0]\n",
    "    for num in lst[1:]:\n",
    "        if num > largest:\n",
    "            largest = num\n",
    "    \n",
    "    return largest\n",
    "\n",
    "# Examples\n",
    "print(find_largest([1, 5, 10, 3, 1]))  # Output: 23\n",
    "print(find_largest([-3, -6, -1]))  # Output: -1\n",
    "print(find_largest([]))  # Output: None"
   ]
  },
  {
   "cell_type": "code",
   "execution_count": 1,
   "metadata": {},
   "outputs": [],
   "source": [
    "def reverse(data):\n",
    "    for index in range(len(data)-1, -1, -1):\n",
    "        yield data[index]\n",
    "\n"
   ]
  },
  {
   "cell_type": "code",
   "execution_count": 2,
   "metadata": {},
   "outputs": [
    {
     "data": {
      "text/plain": [
       "<generator object reverse at 0x000001C44021DFC0>"
      ]
     },
     "execution_count": 2,
     "metadata": {},
     "output_type": "execute_result"
    }
   ],
   "source": [
    "reverse(\"vinoth\")"
   ]
  },
  {
   "cell_type": "code",
   "execution_count": 2,
   "metadata": {},
   "outputs": [
    {
     "name": "stdout",
     "output_type": "stream",
     "text": [
      "hi i am vinoth\n"
     ]
    }
   ],
   "source": [
    "class car():\n",
    "    def excl(self):\n",
    "        print(\"hi i am vinoth\")\n",
    "class yugo(car):\n",
    "    pass\n",
    "\n",
    "give =car()\n",
    "givey = yugo()\n",
    "give.excl()"
   ]
  },
  {
   "cell_type": "code",
   "execution_count": null,
   "metadata": {},
   "outputs": [],
   "source": [
    "\n",
    "\n",
    "\n"
   ]
  },
  {
   "cell_type": "code",
   "execution_count": null,
   "metadata": {},
   "outputs": [],
   "source": [
    "\n",
    "\n",
    "\n",
    "\n"
   ]
  }
 ],
 "metadata": {
  "kernelspec": {
   "display_name": "base",
   "language": "python",
   "name": "python3"
  },
  "language_info": {
   "codemirror_mode": {
    "name": "ipython",
    "version": 3
   },
   "file_extension": ".py",
   "mimetype": "text/x-python",
   "name": "python",
   "nbconvert_exporter": "python",
   "pygments_lexer": "ipython3",
   "version": "3.11.5"
  }
 },
 "nbformat": 4,
 "nbformat_minor": 2
}
