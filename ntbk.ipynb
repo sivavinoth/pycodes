{
 "cells": [
  {
   "cell_type": "code",
   "execution_count": 4,
   "metadata": {},
   "outputs": [
    {
     "name": "stdout",
     "output_type": "stream",
     "text": [
      "[1, 4, 9, 16, 25]\n"
     ]
    }
   ],
   "source": [
    "def square(num):\n",
    "    return num * num\n",
    "\n",
    "num =[1,2,3]\n",
    "print\n",
    "mylist = [1, 2, 3, 4, 5]\n",
    "new_list = list(map(square, mylist))\n",
    "print(new_list)\n"
   ]
  },
  {
   "cell_type": "code",
   "execution_count": 3,
   "metadata": {},
   "outputs": [
    {
     "name": "stdout",
     "output_type": "stream",
     "text": [
      "[1, 2, 3, 4, 5]\n",
      "[1, 2, 3, 4, 5]\n"
     ]
    }
   ],
   "source": [
    "bask = [1,3,4,5,2,]\n",
    "bask.sort()\n",
    "\n",
    "print(sorted(bask))\n",
    "print(bask)\n"
   ]
  },
  {
   "cell_type": "code",
   "execution_count": 9,
   "metadata": {},
   "outputs": [
    {
     "name": "stdout",
     "output_type": "stream",
     "text": [
      "None\n"
     ]
    }
   ],
   "source": [
    "user ={\n",
    "    \"name\": \"Golem\",\n",
    "    \"age\": 5006\n",
    "}  \n",
    "print(user.get(\"s\"))\n"
   ]
  },
  {
   "cell_type": "code",
   "execution_count": 2,
   "metadata": {},
   "outputs": [
    {
     "data": {
      "text/plain": [
       "True"
      ]
     },
     "execution_count": 2,
     "metadata": {},
     "output_type": "execute_result"
    }
   ],
   "source": [
    "import os \n",
    "os.path.exists('code1.py')"
   ]
  },
  {
   "cell_type": "code",
   "execution_count": 5,
   "metadata": {},
   "outputs": [
    {
     "name": "stdout",
     "output_type": "stream",
     "text": [
      "you need to get licensce\n"
     ]
    }
   ],
   "source": [
    "is_old  = False\n",
    "if is_old :\n",
    "    print(\"you can drive\")\n",
    "else :\n",
    "    print(\"you need to get licensce\")"
   ]
  },
  {
   "cell_type": "code",
   "execution_count": 4,
   "metadata": {},
   "outputs": [
    {
     "name": "stdout",
     "output_type": "stream",
     "text": [
      "1 a\n",
      "1 b\n",
      "2 a\n",
      "2 b\n",
      "3 a\n",
      "3 b\n"
     ]
    }
   ],
   "source": [
    "for itm in (1,2,3):\n",
    "    for x in ('a','b'):\n",
    "        print(itm,x)"
   ]
  },
  {
   "cell_type": "code",
   "execution_count": 22,
   "metadata": {},
   "outputs": [
    {
     "name": "stdout",
     "output_type": "stream",
     "text": [
      "v 0\n",
      "i 1\n",
      "n 2\n",
      "o 3\n",
      "t 4\n",
      "h 5\n"
     ]
    }
   ],
   "source": [
    "n =\"vinoth\"\n",
    "for j in range(len(n)):\n",
    "  print(n[j],j)"
   ]
  },
  {
   "cell_type": "code",
   "execution_count": 19,
   "metadata": {},
   "outputs": [
    {
     "name": "stdout",
     "output_type": "stream",
     "text": [
      "v 0\n",
      "i 1\n",
      "n 2\n",
      "o 3\n",
      "t 4\n",
      "h 5\n"
     ]
    }
   ],
   "source": [
    "for index, letter in enumerate(\"vinoth\"):\n",
    "    print(letter, index)"
   ]
  },
  {
   "cell_type": "code",
   "execution_count": 24,
   "metadata": {},
   "outputs": [
    {
     "name": "stdout",
     "output_type": "stream",
     "text": [
      "a numbers next to alphabets :0\n",
      "b numbers next to alphabets :1\n",
      "c numbers next to alphabets :2\n",
      "d numbers next to alphabets :3\n"
     ]
    }
   ],
   "source": [
    "m = \"abcd\"\n",
    "i = 0\n",
    "while i < len(m):\n",
    "    # print(m[i], i)\n",
    "    print(f'{m[i]} numbers next to alphabets :{ i}')\n",
    "    i += 1\n"
   ]
  },
  {
   "cell_type": "code",
   "execution_count": null,
   "metadata": {},
   "outputs": [],
   "source": []
  },
  {
   "cell_type": "code",
   "execution_count": null,
   "metadata": {},
   "outputs": [],
   "source": []
  },
  {
   "cell_type": "code",
   "execution_count": null,
   "metadata": {},
   "outputs": [],
   "source": []
  }
 ],
 "metadata": {
  "kernelspec": {
   "display_name": "base",
   "language": "python",
   "name": "python3"
  },
  "language_info": {
   "codemirror_mode": {
    "name": "ipython",
    "version": 3
   },
   "file_extension": ".py",
   "mimetype": "text/x-python",
   "name": "python",
   "nbconvert_exporter": "python",
   "pygments_lexer": "ipython3",
   "version": "3.11.5"
  }
 },
 "nbformat": 4,
 "nbformat_minor": 2
}
